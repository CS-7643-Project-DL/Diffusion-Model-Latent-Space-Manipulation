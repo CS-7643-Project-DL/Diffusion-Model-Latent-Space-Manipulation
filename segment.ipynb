{
 "cells": [
  {
   "cell_type": "code",
   "execution_count": 1,
   "metadata": {},
   "outputs": [
    {
     "name": "stderr",
     "output_type": "stream",
     "text": [
      "/home/mashalimay/.local/lib/python3.10/site-packages/mmseg/models/builder.py:36: UserWarning: ``build_loss`` would be deprecated soon, please use ``mmseg.registry.MODELS.build()`` \n",
      "  warnings.warn('``build_loss`` would be deprecated soon, please use '\n",
      "/home/mashalimay/.local/lib/python3.10/site-packages/mmseg/models/losses/cross_entropy_loss.py:235: UserWarning: Default ``avg_non_ignore`` is False, if you would like to ignore the certain label and average loss over non-ignore labels, which is the same with PyTorch official cross_entropy, set ``avg_non_ignore=True``.\n",
      "  warnings.warn(\n"
     ]
    },
    {
     "name": "stdout",
     "output_type": "stream",
     "text": [
      "Loads checkpoint by local backend from path: pspnet_r50-d8_512x1024_40k_cityscapes_20200605_003338-2966598c.pth\n"
     ]
    },
    {
     "ename": "",
     "evalue": "",
     "output_type": "error",
     "traceback": [
      "\u001b[1;31mThe Kernel crashed while executing code in the current cell or a previous cell. \n",
      "\u001b[1;31mPlease review the code in the cell(s) to identify a possible cause of the failure. \n",
      "\u001b[1;31mClick <a href='https://aka.ms/vscodeJupyterKernelCrash'>here</a> for more info. \n",
      "\u001b[1;31mView Jupyter <a href='command:jupyter.viewOutput'>log</a> for further details."
     ]
    }
   ],
   "source": [
    "from mmseg.apis import inference_model, init_model, show_result_pyplot\n",
    "import mmcv\n",
    "\n",
    "config_file = 'pspnet_r50-d8_4xb2-40k_cityscapes-512x1024.py'\n",
    "checkpoint_file = 'pspnet_r50-d8_512x1024_40k_cityscapes_20200605_003338-2966598c.pth'\n",
    "\n",
    "# build the model from a config file and a checkpoint file\n",
    "model = init_model(config_file, checkpoint_file, device='cuda:0')\n",
    "\n",
    "# test a single image and show the results\n",
    "img = 'demo/demo.png'  # or img = mmcv.imread(img), which will only load it once\n",
    "result = inference_model(model, img)\n",
    "# visualize the results in a new window\n",
    "show_result_pyplot(model, img, result, show=True)\n",
    "# or save the visualization results to image files\n",
    "# you can change the opacity of the painted segmentation map in (0, 1].\n",
    "show_result_pyplot(model, img, result, show=True, out_file='result.jpg', opacity=0.5)\n",
    "# test a video and show the results\n",
    "video = mmcv.VideoReader('video.mp4')\n",
    "for frame in video:\n",
    "   result = inference_model(model, frame)\n",
    "   show_result_pyplot(model, frame, result, wait_time=1)"
   ]
  },
  {
   "cell_type": "code",
   "execution_count": 6,
   "metadata": {},
   "outputs": [
    {
     "name": "stdout",
     "output_type": "stream",
     "text": [
      "Ikomia auto-completion updated for installed plugins.\n",
      "Ikomia auto-completion updated for Ikomia HUB algorithms.\n"
     ]
    }
   ],
   "source": [
    "from ikomia.dataprocess.workflow import Workflow\n",
    "\n",
    "# Init your workflow\n",
    "wf = Workflow()\n",
    "\n",
    "# Add algorithm\n",
    "segmentor = wf.add_task(name=\"infer_mmlab_segmentation\", auto_connect=True)\n",
    "\n",
    "segmentor.set_parameters({\n",
    "        \"model_name\": \"pspnet\",\n",
    "        \"model_config\": \"pspnet_r50-d8_4xb2-40k_cityscapes-512x1024.py\",\n",
    "        \"cuda\": \"True\",\n",
    "    })\n",
    "\n",
    "\n",
    "# Run the workflow on image\n",
    "wf.run_on(url=\"https://github.com/open-mmlab/mmsegmentation/blob/main/demo/demo.png?raw=true\")"
   ]
  }
 ],
 "metadata": {
  "kernelspec": {
   "display_name": "Python 3",
   "language": "python",
   "name": "python3"
  },
  "language_info": {
   "codemirror_mode": {
    "name": "ipython",
    "version": 3
   },
   "file_extension": ".py",
   "mimetype": "text/x-python",
   "name": "python",
   "nbconvert_exporter": "python",
   "pygments_lexer": "ipython3",
   "version": "3.10.12"
  }
 },
 "nbformat": 4,
 "nbformat_minor": 2
}
